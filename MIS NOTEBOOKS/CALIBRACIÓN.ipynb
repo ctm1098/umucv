{
 "cells": [
  {
   "cell_type": "markdown",
   "id": "f675ebbe",
   "metadata": {},
   "source": [
    "# EJERCICIO: COLOR\n",
    "\n",
    "### a) Realiza una calibración precisa de tu cámara mediante múltiples imágenes de un chessboard\n",
    "\n",
    "Para la resolución de este apartado se ha hecho uso del script ```calibrate.py```, cuyo código queda listado justo debajo. Este script realiza una calibración precisa de la cámara a partir de un conjunto de imágenes suministradas como input. El programa devolverá el error de ajuste (**RMS**), la matriz de calibración de cámara ***K*** y los coeficientes de distorsión radial. El primer elemento de *K* se tratará de la longitud focal ***f*** medida en pixels."
   ]
  },
  {
   "cell_type": "code",
   "execution_count": 1,
   "id": "720c1594",
   "metadata": {},
   "outputs": [
    {
     "ename": "ModuleNotFoundError",
     "evalue": "No module named 'cv2'",
     "output_type": "error",
     "traceback": [
      "\u001b[1;31m---------------------------------------------------------------------------\u001b[0m",
      "\u001b[1;31mModuleNotFoundError\u001b[0m                       Traceback (most recent call last)",
      "\u001b[1;32m~\\AppData\\Local\\Temp/ipykernel_11948/1779275069.py\u001b[0m in \u001b[0;36m<module>\u001b[1;34m\u001b[0m\n\u001b[0;32m      2\u001b[0m \u001b[1;33m\u001b[0m\u001b[0m\n\u001b[0;32m      3\u001b[0m \u001b[1;32mimport\u001b[0m \u001b[0mnumpy\u001b[0m \u001b[1;32mas\u001b[0m \u001b[0mnp\u001b[0m\u001b[1;33m\u001b[0m\u001b[1;33m\u001b[0m\u001b[0m\n\u001b[1;32m----> 4\u001b[1;33m \u001b[1;32mimport\u001b[0m \u001b[0mcv2\u001b[0m   \u001b[1;32mas\u001b[0m \u001b[0mcv\u001b[0m\u001b[1;33m\u001b[0m\u001b[1;33m\u001b[0m\u001b[0m\n\u001b[0m\u001b[0;32m      5\u001b[0m \u001b[1;33m\u001b[0m\u001b[0m\n\u001b[0;32m      6\u001b[0m \u001b[1;32mimport\u001b[0m \u001b[0msys\u001b[0m\u001b[1;33m\u001b[0m\u001b[1;33m\u001b[0m\u001b[0m\n",
      "\u001b[1;31mModuleNotFoundError\u001b[0m: No module named 'cv2'"
     ]
    }
   ],
   "source": [
    "#!/usr/bin/env python\n",
    "\n",
    "import numpy as np\n",
    "import cv2   as cv\n",
    "\n",
    "import sys\n",
    "from glob import glob\n",
    "\n",
    "files = glob(\"ctmlogitech\")\n",
    "\n",
    "square_size = 1\n",
    "pattern_size = (9, 6)\n",
    "pattern_points = np.zeros( (np.prod(pattern_size), 3), np.float32 )\n",
    "pattern_points[:,:2] = np.indices(pattern_size).T.reshape(-1, 2)\n",
    "pattern_points *= square_size\n",
    "\n",
    "obj_points = []\n",
    "img_points = []\n",
    "h, w = 0, 0\n",
    "for fn in files:\n",
    "    print('processing %s...' % fn)\n",
    "    img = cv.imread(fn, cv.IMREAD_GRAYSCALE)\n",
    "    if img is None:\n",
    "      print(\"Failed to load\", fn)\n",
    "      continue\n",
    "\n",
    "    h, w = img.shape[:2]\n",
    "    found, corners = cv.findChessboardCorners(img, pattern_size)\n",
    "    if found:\n",
    "        term = ( cv.TERM_CRITERIA_EPS + cv.TERM_CRITERIA_COUNT, 30, 0.1 )\n",
    "        cv.cornerSubPix(img, corners, (5, 5), (-1, -1), term)\n",
    "    if not found:\n",
    "        print('chessboard not found')\n",
    "        continue\n",
    "    img_points.append(corners.reshape(-1, 2))\n",
    "    obj_points.append(pattern_points)\n",
    "\n",
    "    print('ok')\n",
    "\n",
    "rms, camera_matrix, dist_coefs, rvecs, tvecs = cv.calibrateCamera(obj_points, img_points, (w, h), None, None)\n",
    "\n",
    "print(\"RMS:\", rms)\n",
    "print(\"camera matrix:\\n\", camera_matrix)\n",
    "print(\"distortion coefficients: \", dist_coefs.ravel())"
   ]
  },
  {
   "cell_type": "code",
   "execution_count": null,
   "id": "0cfcf622",
   "metadata": {},
   "outputs": [],
   "source": []
  }
 ],
 "metadata": {
  "kernelspec": {
   "display_name": "Python 3 (ipykernel)",
   "language": "python",
   "name": "python3"
  },
  "language_info": {
   "codemirror_mode": {
    "name": "ipython",
    "version": 3
   },
   "file_extension": ".py",
   "mimetype": "text/x-python",
   "name": "python",
   "nbconvert_exporter": "python",
   "pygments_lexer": "ipython3",
   "version": "3.9.7"
  }
 },
 "nbformat": 4,
 "nbformat_minor": 5
}
