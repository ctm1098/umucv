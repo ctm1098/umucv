{
 "cells": [
  {
   "cell_type": "code",
   "execution_count": 2,
   "id": "55d734ef",
   "metadata": {},
   "outputs": [
    {
     "name": "stdout",
     "output_type": "stream",
     "text": [
      "640x480 30.0fps\n"
     ]
    }
   ],
   "source": [
    "import cv2          as cv\n",
    "import numpy        as np\n",
    "from umucv.stream import autoStream\n",
    "from collections  import deque\n",
    "\n",
    "n = 4\n",
    "\n",
    "d = deque(maxlen = n)\n",
    "\n",
    "def grid(deq,n):\n",
    "    xs = np.hstack(deq)\n",
    "    xss = np.vstack([xs]*n)\n",
    "    return xss\n",
    "\n",
    "for key,frame in autoStream():\n",
    "    rimg = cv.resize(frame, (160,140))\n",
    "    d.append(rimg)\n",
    "    _grid = grid(d,n)\n",
    "    cv.imshow('frames',_grid)\n",
    "    \n",
    "cv.destroyAllWindows()"
   ]
  },
  {
   "cell_type": "code",
   "execution_count": null,
   "id": "1094c2df",
   "metadata": {},
   "outputs": [],
   "source": []
  }
 ],
 "metadata": {
  "kernelspec": {
   "display_name": "Python 3 (ipykernel)",
   "language": "python",
   "name": "python3"
  },
  "language_info": {
   "codemirror_mode": {
    "name": "ipython",
    "version": 3
   },
   "file_extension": ".py",
   "mimetype": "text/x-python",
   "name": "python",
   "nbconvert_exporter": "python",
   "pygments_lexer": "ipython3",
   "version": "3.8.5"
  }
 },
 "nbformat": 4,
 "nbformat_minor": 5
}
